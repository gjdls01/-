{
 "cells": [
  {
   "cell_type": "code",
   "execution_count": 140,
   "id": "eb5037d8",
   "metadata": {},
   "outputs": [],
   "source": [
    "from nltk.lm.preprocessing import padded_everygram_pipeline\n",
    "from nltk.lm import MLE\n",
    "import json\n",
    "import konlpy\n",
    "from nltk.tokenize import word_tokenize\n",
    "import re\n",
    "from konlpy.tag import Okt\n",
    "import time\n",
    "import pandas as pd\n",
    "import numpy as np\n",
    "import os\n",
    "from tqdm import tqdm\n",
    "from itertools import combinations\n",
    "from itertools import product\n",
    "\n",
    "text=[[\"a\", \"b\", \"c\", \"d\"], [\"가\", \"다\", \"a\", \"b\"], [\"a\", \"d\", \"b\", \"c\"], [\"c\", \"d\", \"b\", \"e\", \"a\"], [\"c\", \"b\", \"a\"], [\"d\", \"c\"]]\n",
    "\n",
    "train, vocab=padded_everygram_pipeline(2, text)\n",
    "vocab=list(vocab)\n",
    "ngram=MLE(3)\n",
    "ngram.fit(train,vocab)"
   ]
  },
  {
   "cell_type": "code",
   "execution_count": 3,
   "id": "aa801e7e",
   "metadata": {},
   "outputs": [
    {
     "data": {
      "text/plain": [
       "int"
      ]
     },
     "execution_count": 3,
     "metadata": {},
     "output_type": "execute_result"
    }
   ],
   "source": [
    "type(ngram.counts[[\"a\"]][\"b\"])"
   ]
  },
  {
   "cell_type": "code",
   "execution_count": 4,
   "id": "09d97eb8",
   "metadata": {},
   "outputs": [],
   "source": [
    "#model, 이전 단어, 이후 단어를 바탕으로 bigram probs를 연산하는 모델 생성\n",
    "def bigram_probs(model, pre_word, post_word):\n",
    "    word_dict=dict(model.counts[[pre_word]])\n",
    "    wholecount=model.counts[pre_word]\n",
    "    try:\n",
    "        post_count=word_dict[post_word]\n",
    "    except:\n",
    "        post_count=0\n",
    "    emer_prob=post_count/wholecount\n",
    "    return emer_prob\n"
   ]
  },
  {
   "cell_type": "code",
   "execution_count": 5,
   "id": "5599ea1d",
   "metadata": {},
   "outputs": [],
   "source": [
    "emer_prb=bigram_probs(ngram, \"a\", \"가\")"
   ]
  },
  {
   "cell_type": "code",
   "execution_count": 6,
   "id": "4c3f0642",
   "metadata": {},
   "outputs": [
    {
     "data": {
      "text/plain": [
       "0.0"
      ]
     },
     "execution_count": 6,
     "metadata": {},
     "output_type": "execute_result"
    }
   ],
   "source": [
    "emer_prb"
   ]
  },
  {
   "cell_type": "code",
   "execution_count": 7,
   "id": "c99edddc",
   "metadata": {},
   "outputs": [],
   "source": [
    "#transitive closure 활용해서 trigram probs 연산하는 모델 생성\n",
    "#trigram probs 연산이 bigram보다 단연 안좋아질 수도 있으니 이에 대한 normalization 작업 수행\n",
    "def trigram_probs(model, pre_word, post_word):\n",
    "    tulist=[]\n",
    "    word_dict=dict(model.counts[[pre_word]])\n",
    "    \n",
    "    for key in list(word_dict.keys()):\n",
    "        if key !=pre_word:\n",
    "            first_prob=bigram_probs(model, pre_word, key)\n",
    "            second_prob=bigram_probs(model, key, post_word)\n",
    "            whole_prob=first_prob*second_prob\n",
    "            if whole_prob!=0:\n",
    "                #normalization\n",
    "                whole_prob=whole_prob*2\n",
    "                tulist.append([pre_word, key, post_word, whole_prob])\n",
    "        else:\n",
    "            continue\n",
    "    return tulist"
   ]
  },
  {
   "cell_type": "code",
   "execution_count": 8,
   "id": "c867077c",
   "metadata": {},
   "outputs": [],
   "source": [
    "worddict=trigram_probs(ngram, \"a\", \"c\")"
   ]
  },
  {
   "cell_type": "code",
   "execution_count": 9,
   "id": "e38d6003",
   "metadata": {},
   "outputs": [
    {
     "data": {
      "text/plain": [
       "[['a', 'b', 'c', 0.32000000000000006]]"
      ]
     },
     "execution_count": 9,
     "metadata": {},
     "output_type": "execute_result"
    }
   ],
   "source": [
    "worddict"
   ]
  },
  {
   "cell_type": "code",
   "execution_count": 10,
   "id": "ccc67fa1",
   "metadata": {},
   "outputs": [],
   "source": [
    "#pre_word 와 post_word를 바탕으로 bigram 해보고 안되면 trigram까지 하는 함수 생성\n",
    "def canconnect(model, pre_word, post_word):\n",
    "    possiblelist=[]\n",
    "    biprob=bigram_probs(model, pre_word, post_word)\n",
    "    if biprob!=0:\n",
    "        possiblelist.append([pre_word, post_word, biprob])\n",
    "    \n",
    "    tulist=trigram_probs(model, pre_word, post_word)\n",
    "    for li in tulist:\n",
    "        possiblelist.append(li)\n",
    "    return possiblelist"
   ]
  },
  {
   "cell_type": "code",
   "execution_count": 11,
   "id": "4fe8b860",
   "metadata": {},
   "outputs": [
    {
     "data": {
      "text/plain": [
       "[['a', 'b', 0.4], ['a', 'd', 'b', 0.26666666666666666]]"
      ]
     },
     "execution_count": 11,
     "metadata": {},
     "output_type": "execute_result"
    }
   ],
   "source": [
    "canconnect(ngram, \"a\", \"b\")\n",
    "#시작 단어, 가운데 단어(있다면)**, 끝 단어, 등장확률"
   ]
  },
  {
   "cell_type": "code",
   "execution_count": 14,
   "id": "8ce40e19",
   "metadata": {},
   "outputs": [],
   "source": [
    "import itertools\n",
    "given_list=[\"a\", \"b\", \"c\", \"d\"]\n",
    "#list(itertools.permutations(given_list, 4))"
   ]
  },
  {
   "cell_type": "code",
   "execution_count": 23,
   "id": "69a13bc0",
   "metadata": {},
   "outputs": [],
   "source": [
    "def bigconnect(model, list_of_words):\n",
    "    dummylist=[]\n",
    "    index_list=[]\n",
    "    for i in range(len(list_of_words)-1):\n",
    "        connection=canconnect(model, list_of_words[i], list_of_words[i+1])\n",
    "        if len(connection)!=0:\n",
    "            n=len(connection)\n",
    "            index_list.append(n)\n",
    "            for possible in connection:\n",
    "                dummylist.append(possible)\n",
    "    \n",
    "        else:\n",
    "            print(\"connection failed\")\n",
    "            break\n",
    "    return dummylist, index_list\n",
    "        \n",
    "    "
   ]
  },
  {
   "cell_type": "code",
   "execution_count": 24,
   "id": "904a9743",
   "metadata": {},
   "outputs": [
    {
     "data": {
      "text/plain": [
       "['a', 'b']"
      ]
     },
     "execution_count": 24,
     "metadata": {},
     "output_type": "execute_result"
    }
   ],
   "source": [
    "canconnect(ngram, \"a\", \"b\")[0][:-1]"
   ]
  },
  {
   "cell_type": "code",
   "execution_count": 37,
   "id": "5e5b6b19",
   "metadata": {},
   "outputs": [
    {
     "name": "stdout",
     "output_type": "stream",
     "text": [
      "connection failed\n"
     ]
    },
    {
     "data": {
      "text/plain": [
       "[]"
      ]
     },
     "execution_count": 37,
     "metadata": {},
     "output_type": "execute_result"
    }
   ],
   "source": [
    "bigconnect(ngram, [\"a\", \"가\"])"
   ]
  },
  {
   "cell_type": "code",
   "execution_count": 25,
   "id": "808cd2c4",
   "metadata": {},
   "outputs": [
    {
     "data": {
      "text/plain": [
       "([['c', 'b', 0.25],\n",
       "  ['c', 'd', 'b', 0.6666666666666666],\n",
       "  ['b', 'a', 0.2],\n",
       "  ['b', 'e', 'a', 0.4],\n",
       "  ['a', 'd', 0.2],\n",
       "  ['d', 'b', 'e', 0.26666666666666666]],\n",
       " [2, 2, 1, 1])"
      ]
     },
     "execution_count": 25,
     "metadata": {},
     "output_type": "execute_result"
    }
   ],
   "source": [
    "bigconnect(ngram, [\"c\", \"b\", \"a\", \"d\", \"e\"])"
   ]
  },
  {
   "cell_type": "code",
   "execution_count": 34,
   "id": "0ae2c829",
   "metadata": {},
   "outputs": [],
   "source": [
    "doublelist, index_list=bigconnect(ngram, [\"c\", \"b\", \"a\", \"d\", \"e\"])\n"
   ]
  },
  {
   "cell_type": "code",
   "execution_count": 74,
   "id": "ed860282",
   "metadata": {},
   "outputs": [],
   "source": [
    "def process(model, list_of_words):\n",
    "    doublelists, index=bigconnect(model, list_of_words)\n",
    "    for indexes in range(len(doublelists)):\n",
    "        doublelists[indexes]=tuple(doublelists[indexes])\n",
    "    return doublelists, index\n",
    "    \n",
    "\n"
   ]
  },
  {
   "cell_type": "code",
   "execution_count": 75,
   "id": "b96aed62",
   "metadata": {},
   "outputs": [],
   "source": [
    "lists, indexes=process(ngram, [\"c\", \"b\", \"a\", \"d\", \"e\"])"
   ]
  },
  {
   "cell_type": "code",
   "execution_count": 76,
   "id": "05bb0eb1",
   "metadata": {},
   "outputs": [
    {
     "data": {
      "text/plain": [
       "[('c', 'b', 0.25),\n",
       " ('c', 'd', 'b', 0.6666666666666666),\n",
       " ('b', 'a', 0.2),\n",
       " ('b', 'e', 'a', 0.4),\n",
       " ('a', 'd', 0.2),\n",
       " ('d', 'b', 'e', 0.26666666666666666)]"
      ]
     },
     "execution_count": 76,
     "metadata": {},
     "output_type": "execute_result"
    }
   ],
   "source": [
    "lists"
   ]
  },
  {
   "cell_type": "code",
   "execution_count": 77,
   "id": "47decc3d",
   "metadata": {},
   "outputs": [
    {
     "data": {
      "text/plain": [
       "[2, 2, 1, 1]"
      ]
     },
     "execution_count": 77,
     "metadata": {},
     "output_type": "execute_result"
    }
   ],
   "source": [
    "indexes"
   ]
  },
  {
   "cell_type": "code",
   "execution_count": 78,
   "id": "13d6f5c8",
   "metadata": {},
   "outputs": [],
   "source": [
    "def separate_connection(model,list_of_words):\n",
    "    newconlist=[]\n",
    "    doublelists, index=process(model, list_of_words)\n",
    "    end, start=0, 0\n",
    "    for i in index:\n",
    "        end+=i\n",
    "        newconlist.append(doublelists[start:end])\n",
    "\n",
    "        start+=i\n",
    "    return newconlist\n",
    "    \n",
    "                "
   ]
  },
  {
   "cell_type": "code",
   "execution_count": 79,
   "id": "7c01771e",
   "metadata": {},
   "outputs": [],
   "source": [
    "newlist=separate_connection(ngram, [\"c\", \"b\", \"a\", \"d\", \"e\"])"
   ]
  },
  {
   "cell_type": "code",
   "execution_count": 131,
   "id": "446e91f5",
   "metadata": {},
   "outputs": [],
   "source": [
    "def make_it_one(model, list_of_words):\n",
    "    wholeconcat=[]\n",
    "    wholeprob=1.0\n",
    "    newlist=separate_connection(ngram, [\"c\", \"b\", \"a\", \"d\", \"e\"])\n",
    "    maybe_one=list(product(*newlist))\n",
    "    for i in maybe_one:\n",
    "        for index in range(len(i)):\n",
    "            wholeconcat.append(i[index][:-2])\n",
    "            wholeprob*=i[index][-1]\n",
    "        wholeconcat.append(list_of_words[-1])\n",
    "        \n",
    "        wholeconcat.append(wholeprob)\n",
    "        wholeprob=1.0\n",
    "    return wholeconcat\n",
    "        \n",
    "    "
   ]
  },
  {
   "cell_type": "code",
   "execution_count": 138,
   "id": "df6215e1",
   "metadata": {},
   "outputs": [
    {
     "data": {
      "text/plain": [
       "[('c',),\n",
       " ('b',),\n",
       " ('a',),\n",
       " ('d', 'b'),\n",
       " 'e',\n",
       " 0.002666666666666667,\n",
       " ('c',),\n",
       " ('b', 'e'),\n",
       " ('a',),\n",
       " ('d', 'b'),\n",
       " 'e',\n",
       " 0.005333333333333334,\n",
       " ('c', 'd'),\n",
       " ('b',),\n",
       " ('a',),\n",
       " ('d', 'b'),\n",
       " 'e',\n",
       " 0.0071111111111111115,\n",
       " ('c', 'd'),\n",
       " ('b', 'e'),\n",
       " ('a',),\n",
       " ('d', 'b'),\n",
       " 'e',\n",
       " 0.014222222222222223]"
      ]
     },
     "execution_count": 138,
     "metadata": {},
     "output_type": "execute_result"
    }
   ],
   "source": [
    "make_it_one(ngram, [\"c\", \"b\", \"a\", \"d\", \"e\"])"
   ]
  },
  {
   "cell_type": "code",
   "execution_count": 141,
   "id": "56dec506",
   "metadata": {},
   "outputs": [
    {
     "data": {
      "text/plain": [
       "[('c',),\n",
       " ('b',),\n",
       " ('a',),\n",
       " ('d', 'b'),\n",
       " 'e',\n",
       " 0.0016000000000000005,\n",
       " ('c',),\n",
       " ('b', 'e'),\n",
       " ('a',),\n",
       " ('d', 'b'),\n",
       " 'e',\n",
       " 0.003200000000000001,\n",
       " ('c', 'd'),\n",
       " ('b',),\n",
       " ('a',),\n",
       " ('d', 'b'),\n",
       " 'e',\n",
       " 0.003200000000000001,\n",
       " ('c', 'd'),\n",
       " ('b', 'e'),\n",
       " ('a',),\n",
       " ('d', 'b'),\n",
       " 'e',\n",
       " 0.006400000000000002]"
      ]
     },
     "execution_count": 141,
     "metadata": {},
     "output_type": "execute_result"
    }
   ],
   "source": [
    "make_it_one(ngram, [\"c\", \"b\", \"a\", \"d\", \"e\"])"
   ]
  },
  {
   "cell_type": "code",
   "execution_count": null,
   "id": "d0a9086b",
   "metadata": {},
   "outputs": [],
   "source": []
  }
 ],
 "metadata": {
  "kernelspec": {
   "display_name": "Python 3 (ipykernel)",
   "language": "python",
   "name": "python3"
  },
  "language_info": {
   "codemirror_mode": {
    "name": "ipython",
    "version": 3
   },
   "file_extension": ".py",
   "mimetype": "text/x-python",
   "name": "python",
   "nbconvert_exporter": "python",
   "pygments_lexer": "ipython3",
   "version": "3.9.12"
  }
 },
 "nbformat": 4,
 "nbformat_minor": 5
}
