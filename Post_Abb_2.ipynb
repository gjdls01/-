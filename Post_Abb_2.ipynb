{
  "nbformat": 4,
  "nbformat_minor": 0,
  "metadata": {
    "colab": {
      "provenance": [],
      "collapsed_sections": []
    },
    "kernelspec": {
      "name": "python3",
      "display_name": "Python 3"
    },
    "language_info": {
      "name": "python"
    }
  },
  "cells": [
    {
      "cell_type": "code",
      "source": [
        "#pykospacing downloading. \n",
        "!pip install git+https://github.com/haven-jeon/PyKoSpacing.git\n"
      ],
      "metadata": {
        "id": "BJNGHsR0vJCR"
      },
      "execution_count": null,
      "outputs": []
    },
    {
      "cell_type": "code",
      "execution_count": null,
      "metadata": {
        "id": "43335mTQ6CnF",
        "colab": {
          "base_uri": "https://localhost:8080/"
        },
        "outputId": "80d949ee-714c-4a14-80f0-c04a5a3f5b0d"
      },
      "outputs": [
        {
          "output_type": "stream",
          "name": "stdout",
          "text": [
            "+ pip install konlpy\n",
            "Looking in indexes: https://pypi.org/simple, https://us-python.pkg.dev/colab-wheels/public/simple/\n",
            "Collecting konlpy\n",
            "  Downloading konlpy-0.6.0-py2.py3-none-any.whl (19.4 MB)\n",
            "\u001b[K     |████████████████████████████████| 19.4 MB 8.5 MB/s \n",
            "\u001b[?25hRequirement already satisfied: lxml>=4.1.0 in /usr/local/lib/python3.7/dist-packages (from konlpy) (4.9.1)\n",
            "Collecting JPype1>=0.7.0\n",
            "  Downloading JPype1-1.4.0-cp37-cp37m-manylinux_2_5_x86_64.manylinux1_x86_64.whl (453 kB)\n",
            "\u001b[K     |████████████████████████████████| 453 kB 44.0 MB/s \n",
            "\u001b[?25hRequirement already satisfied: numpy>=1.6 in /usr/local/lib/python3.7/dist-packages (from konlpy) (1.21.6)\n",
            "Requirement already satisfied: typing-extensions in /usr/local/lib/python3.7/dist-packages (from JPype1>=0.7.0->konlpy) (4.1.1)\n",
            "Installing collected packages: JPype1, konlpy\n",
            "Successfully installed JPype1-1.4.0 konlpy-0.6.0\n"
          ]
        }
      ],
      "source": [
        "#konlpy downloading. \n",
        "!set -x \\\n",
        "&& pip install konlpy \\\n",
        "\n",
        "#&& curl -s https://raw.githubusercontent.com/konlpy/konlpy/master/scripts/mecab.sh | bash -x\n"
      ]
    },
    {
      "cell_type": "code",
      "source": [
        "%%bash\n",
        "bash <(curl -s https://raw.githubusercontent.com/konlpy/konlpy/master/scripts/mecab.sh)\n",
        "pip3 install /tmp/mecab-python-0.996"
      ],
      "metadata": {
        "colab": {
          "base_uri": "https://localhost:8080/"
        },
        "id": "PNKSjDIncMP8",
        "outputId": "fe726c33-e9c8-4caa-aa07-1c69ceeb4a47"
      },
      "execution_count": null,
      "outputs": [
        {
          "output_type": "stream",
          "name": "stdout",
          "text": [
            "Process is interrupted.\n"
          ]
        }
      ]
    },
    {
      "cell_type": "code",
      "source": [
        "#!curl -s https://raw.githubusercontent.com/teddylee777/machine-learning/master/99-Misc/01-Colab/mecab-colab.sh | bash\n"
      ],
      "metadata": {
        "colab": {
          "base_uri": "https://localhost:8080/"
        },
        "id": "iGAfVswIYP3n",
        "outputId": "b717eff7-9ae0-4813-f271-289fae7c7451"
      },
      "execution_count": null,
      "outputs": [
        {
          "output_type": "stream",
          "name": "stdout",
          "text": [
            "\u001b[31mERROR: Invalid requirement: '/tmp/mecab-python-0.996'\n",
            "Hint: It looks like a path. File '/tmp/mecab-python-0.996' does not exist.\u001b[0m\n"
          ]
        }
      ]
    },
    {
      "cell_type": "code",
      "source": [
        "!pip install git+https://github.com/kakaobrain/pororo.git\n"
      ],
      "metadata": {
        "id": "IJ2eaRpiRjud"
      },
      "execution_count": null,
      "outputs": []
    },
    {
      "cell_type": "code",
      "source": [
        "from nltk.lm import NgramCounter\n",
        "from nltk.util import ngrams\n",
        "from pykospacing import Spacing\n",
        "from google.colab import drive\n",
        "drive.mount('/content/gdrive')\n",
        "from nltk.lm.preprocessing import padded_everygram_pipeline\n",
        "from nltk.lm import MLE\n",
        "import json\n",
        "import konlpy\n",
        "from nltk.tokenize import word_tokenize\n",
        "import re\n",
        "from konlpy.tag import Okt\n",
        "from konlpy.tag import Mecab, Komoran\n",
        "import time\n",
        "import pandas as pd\n",
        "import numpy as np\n",
        "import os\n",
        "from tqdm import tqdm\n",
        "from itertools import combinations\n",
        "from itertools import product\n",
        "import math\n",
        "import pickle\n",
        "\"\"\"\n",
        "import sys\n",
        "sys.setrecursionlimit(10**7)\n",
        "\"\"\""
      ],
      "metadata": {
        "colab": {
          "base_uri": "https://localhost:8080/",
          "height": 54
        },
        "id": "RiDHcYLlHQRw",
        "outputId": "ccaa3886-1c0f-4b09-aefd-ad41a7a23666"
      },
      "execution_count": null,
      "outputs": [
        {
          "output_type": "stream",
          "name": "stdout",
          "text": [
            "Mounted at /content/gdrive\n"
          ]
        },
        {
          "output_type": "execute_result",
          "data": {
            "text/plain": [
              "'\\nimport sys\\nsys.setrecursionlimit(10**7)\\n'"
            ],
            "application/vnd.google.colaboratory.intrinsic+json": {
              "type": "string"
            }
          },
          "metadata": {},
          "execution_count": 5
        }
      ]
    },
    {
      "cell_type": "code",
      "source": [
        "#komoran=Komoran() mecab 만 사용할 거야. 이 칸은 텍스트 데이터 전처리에 관한 것.\n",
        "#mecab=Mecab()\n",
        "komoran=Komoran()\n",
        "pattern_1=r\"\\([^)]*\\)\"\n",
        "pattern_2=r\"\\.{2}\"\n",
        "#json file 을 더블리스트 형태로\n",
        "def preprocess_sent(lst_text):\n",
        "    wholelist=[]\n",
        "    buf=str()\n",
        "    subkor_1=re.sub(pattern=pattern_1, repl=\"\", string=lst_text)\n",
        "    subkor_2=re.sub(pattern=pattern_2, repl=\"\", string=subkor_1)\n",
        "    clear_list=re.compile(\"[가-힣]+|\\.{1}\").findall(subkor_2)\n",
        "    for word in clear_list:\n",
        "        if word==\".\":\n",
        "            buf+=(word+\" \")\n",
        "            wholelist.append(buf)\n",
        "            buf=str()\n",
        "        \n",
        "        else:\n",
        "            buf+=(word+\" \")\n",
        "    return wholelist\n",
        "\n",
        "#더블리스트 형태를 형태소 분석된 채의 더블리스트 형태로 \n",
        "def sent_to_morph(lst_sent):\n",
        "    double_list=[]\n",
        "    for sentence in lst_sent:\n",
        "        listed=komoran.morphs(sentence)\n",
        "        #listed=mecab.morphs(sentence)\n",
        "        double_list.append(listed)\n",
        "    return double_list"
      ],
      "metadata": {
        "id": "MkQJoCakHaMh"
      },
      "execution_count": null,
      "outputs": []
    },
    {
      "cell_type": "code",
      "source": [
        "#윗 셀에 대한 예시. 파일 하나 가지고 놀기. \n",
        "with open(\"/content/gdrive/MyDrive/origin/BWSC217000049025.json\", \"r\") as f:\n",
        "    json_data=json.load(f)\n",
        "#print(json.dumps(json_data))\n",
        "kor_text=json_data[\"SJML\"][\"text\"][1][\"content\"]\n",
        "listed=preprocess_sent(kor_text)\n",
        "double=sent_to_morph(listed)\n",
        "print(double)\n"
      ],
      "metadata": {
        "colab": {
          "base_uri": "https://localhost:8080/"
        },
        "id": "EBoX30CFHwKi",
        "outputId": "e07cc54c-0458-4afb-b8c9-1e8e94f08f37"
      },
      "execution_count": null,
      "outputs": [
        {
          "output_type": "stream",
          "name": "stdout",
          "text": [
            "[['고객', '의', '경우', '올레', '를', '단기간', '이용', '하', 'ㄹ', '수', '있', '는', '올레', '플래시', '상품', '을', '포인트', '로', '결제', '하', 'ㄹ', '수', '있', '게', '되', 'ㄴ다', '.'], ['.'], ['.'], ['늘', 'ㄴ', '자사', '의', '프리미엄', '멤버', '십', '서비스', '이', 'ㄴ', '올레', '클럽', '회원', '을', '대상', '으로', '올레', '플래시', '상품', '을', '포인트', '이', 'ㄴ', '별로', '차감', '하', '는', '서비스', '를', '제공', '하', 'ㄴ다고', '일', '밝히', '었', '다', '.'], ['.'], ['.'], ['올레', '서비스', '는', '필요', '하', 'ㄹ', '때', '마다', '시간', '또는', '하루', '단위', '로', '구매', '하', '는', '서비스', '다', '.'], ['한', '시간', '은', '원', '하루', '는', '원', '이', '다', '.'], ['올레', '접속', '홈페이지', '에서', '결제', '후', '바로', '이용', '하', 'ㄹ', '수', '있', '다', '.'], ['또', '가로수길', '홍대', '삼청동', '등', '가맹점', '카페', '의', '매주', '수요일', '할인', '혜택', '을', '오', '는', '월', '말', '까지', '연장', '하', 'ㄴ다', '.'], ['하루', '에', '회', '이용한', '금액', '만큼', '별', '이', '차감', '되', 'ㄴ다', '.'], ['이용', '하', 'ㄹ', '수', '있', '는', '카페', '의', '위치', '등', '은', '올레', '클럽', '홈페이지', '에서', '확인', '하', 'ㄹ', '수', '있', '다', '.'], ['.'], ['.'], ['이', '외', '에', '도', '지나', 'ㄴ', '월', '부터', '데이터', '가', '부족', '하', 'ㄴ', '고객', '들', '이', '추가', '데이터', '를', '이용', '하', 'ㄹ', '수', '있', '는', '데이터', '플러스', '충전', '데이터', '를', '포인트', '로', '결제', '하', 'ㄹ', '수', '있', '다', '.'], ['.']]\n"
          ]
        }
      ]
    },
    {
      "cell_type": "code",
      "source": [],
      "metadata": {
        "id": "i7VpjFjQIT33"
      },
      "execution_count": null,
      "outputs": []
    },
    {
      "cell_type": "code",
      "source": [],
      "metadata": {
        "id": "jVRMUl78IT1-"
      },
      "execution_count": null,
      "outputs": []
    },
    {
      "cell_type": "code",
      "source": [],
      "metadata": {
        "id": "mAMLPw0iIT0E"
      },
      "execution_count": null,
      "outputs": []
    },
    {
      "cell_type": "code",
      "source": [],
      "metadata": {
        "id": "GxMdgNnLITx7"
      },
      "execution_count": null,
      "outputs": []
    },
    {
      "cell_type": "code",
      "source": [],
      "metadata": {
        "id": "58jEwVPuITvo"
      },
      "execution_count": null,
      "outputs": []
    },
    {
      "cell_type": "code",
      "source": [],
      "metadata": {
        "id": "v7mWZDuJITqN"
      },
      "execution_count": null,
      "outputs": []
    },
    {
      "cell_type": "code",
      "source": [
        "#학습된 모델을 바탕으로 단순히 숫자 세는 모델. 여기서는 ngramcounters 기준. \n",
        "\n",
        "\n",
        "def bigram_probs(model, pre_word, post_word, is_first=False):\n",
        "  if is_first:\n",
        "    unidict=dict(model.unigrams)\n",
        "    uni_whole=np.sum(list(unidict.values()))\n",
        "    uni_spec=unidict[pre_word]\n",
        "    first_emer_prob=uni_spec/uni_whole\n",
        "    word_dict=dict(model[[pre_word]])\n",
        "    wholecount=model[pre_word]\n",
        "    if wholecount!=0:\n",
        "\n",
        "      try:\n",
        "          post_count=word_dict[post_word]\n",
        "      except:\n",
        "          post_count=0\n",
        "     \n",
        "\n",
        "      emer_prob=(post_count/wholecount)*first_emer_prob\n",
        "\n",
        "    else:\n",
        "      emer_prob=0\n",
        "  else:\n",
        "    word_dict=dict(model[[pre_word]])\n",
        "    wholecount=model[pre_word]\n",
        "    if wholecount!=0:\n",
        "      try:\n",
        "        post_count=word_dict[post_word]\n",
        "      except:\n",
        "        post_count=0\n",
        "      emer_prob=post_count/wholecount\n",
        "\n",
        "\n",
        "  return emer_prob\n",
        "\n",
        "def trigram_probs(model, pre_word, post_word):\n",
        "    tulist=[]\n",
        "    real_tulist=[]\n",
        "    word_dict=dict(model[[pre_word]])\n",
        "    \n",
        "    for key in list(word_dict.keys()):\n",
        "        if key !=pre_word:\n",
        "            first_prob=bigram_probs(model, pre_word, key, is_first=True)\n",
        "            second_prob=bigram_probs(model, key, post_word, is_first=False)\n",
        "            whole_prob=first_prob*second_prob\n",
        "            if whole_prob!=0:\n",
        "                #normalization\n",
        "                whole_prob=whole_prob*2\n",
        "                tulist.append([pre_word, key, post_word, whole_prob])\n",
        "                #이제부터는 greedy\n",
        "                tu_df=pd.DataFrame(tulist, columns=[\"pre_word\", \"key\", \"post_word\", \"whole_prob\"])\n",
        "                tu_df=tu_df.sort_values(by=[\"whole_prob\"], ascending=False)\n",
        "                try:\n",
        "                  tu_df=tu_df.iloc[:3, :]\n",
        "                  real_tulist=tu_df.values.tolist()\n",
        "                except:\n",
        "                  real_tulist=tu_df=tu_df.values.tolist()\n",
        "        else:\n",
        "            continue\n",
        "    return real_tulist"
      ],
      "metadata": {
        "id": "dH1Nx8rEIAFk"
      },
      "execution_count": null,
      "outputs": []
    },
    {
      "cell_type": "code",
      "source": [
        "#위에서 숫자 센 걸 바탕으로 \n",
        "def canconnect(model, pre_word, post_word):\n",
        "    possiblelist=[]\n",
        "    biprob=bigram_probs(model, pre_word, post_word, is_first=True)\n",
        "    if biprob!=0:\n",
        "        possiblelist.append([pre_word, post_word, biprob])\n",
        "    \n",
        "    tulist=trigram_probs(model, pre_word, post_word)\n",
        "    for li in tulist:\n",
        "        possiblelist.append(li)\n",
        "\n",
        "    return possiblelist\n",
        "#여기까지는 그냥 코딩이고 이제부터 살짝 greedy 하게 진행\n",
        "\"\"\"\n",
        "    try:\n",
        "      repre_prob=possiblelist[0][2]\n",
        "      if len(possiblelist)>100:\n",
        "        for i in range(100):\n",
        "          repre_prob=max(repre_prob, possiblelist[i][2])\n",
        "\n",
        "\n",
        "\n",
        "      \n",
        "    except:\n",
        "      print('connection failed!')\n",
        "\n",
        "\"\"\"\n",
        "\n",
        "    \n",
        "#  가능한 케이스들과 이에 대한 확률 제시. 인덱스도 만들어야 해(가능한 경우의 수 개수)\n",
        "def bigconnect(model, list_of_words):\n",
        "    dummylist=[]\n",
        "    index_list=[]\n",
        "    for i in range(len(list_of_words)-1):\n",
        "        connection=canconnect(model, list_of_words[i], list_of_words[i+1])\n",
        "        if len(connection)!=0:\n",
        "            n=len(connection)\n",
        "            index_list.append(n)\n",
        "            for possible in connection:\n",
        "                dummylist.append(possible)\n",
        "    \n",
        "        else:\n",
        "            print(\"connection failed\")\n",
        "            break\n",
        "    return dummylist, index_list\n"
      ],
      "metadata": {
        "id": "xA7LUSgRIZJJ"
      },
      "execution_count": null,
      "outputs": []
    },
    {
      "cell_type": "code",
      "source": [
        "#위에서 주어진 dummylist 와 index_list를 바탕으로 깔끔한 출력을 위한 함수들.\n",
        "def process(model, list_of_words):\n",
        "    doublelists, index=bigconnect(model, list_of_words)\n",
        "    for indexes in range(len(doublelists)):\n",
        "        doublelists[indexes]=tuple(doublelists[indexes])\n",
        "    return doublelists, index\n",
        "\n",
        "def separate_connection(model,list_of_words):\n",
        "    newconlist=[]\n",
        "    pro_doublelists, pro_index=process(model, list_of_words)\n",
        "    end, start=0, 0\n",
        "    for i in pro_index:\n",
        "        end+=i\n",
        "        newconlist.append(pro_doublelists[start:end])\n",
        "\n",
        "        start+=i\n",
        "    return newconlist\n",
        "  \n",
        "\n",
        "#확률값이 너무 작아서 별로니 이를 예쁘게. 이 점수의 최댓값은 10000. 최저는 0. \n",
        "def pretty_prob(prob):\n",
        "  prob=10000*prob\n",
        "  prob=round(prob, 4)\n",
        "  return prob  \n",
        "\n",
        "def make_it_one(model, list_of_words):\n",
        "    wholeconcat=[]\n",
        "    wholeprob=1.0\n",
        "    newlist=separate_connection(model, list_of_words)\n",
        "    #separate connection을 거치면 \n",
        "    maybe_one=list(product(*newlist))\n",
        "    for i in maybe_one:\n",
        "        for index in range(len(i)):\n",
        "            wholeconcat.append(i[index][:-2])\n",
        "            wholeprob*=i[index][-1]\n",
        "        wholeconcat.append(tuple(list_of_words[-1]))\n",
        "        wholeconcat.append(pretty_prob(wholeprob))\n",
        "        wholeprob=1.0\n",
        "    return wholeconcat\n",
        "\n"
      ],
      "metadata": {
        "id": "PPBVqpBJJf5H"
      },
      "execution_count": null,
      "outputs": []
    },
    {
      "cell_type": "code",
      "source": [
        "#후처리 과정. 예쁘게 다듬어 주는 과정\n",
        "def after_make(model, list_of_words):\n",
        "  spacing=Spacing()\n",
        "  text=make_it_one(model, list_of_words)\n",
        "  new=[]\n",
        "  sentence=\"\"\n",
        "  for t in text:\n",
        "    if type(t)==tuple:\n",
        "      for c in t:\n",
        "        sentence+=c\n",
        "    else:\n",
        "      new.append([[spacing(sentence)], t])\n",
        "      sentence=\"\"\n",
        "\n",
        "  return new\n",
        "\n"
      ],
      "metadata": {
        "id": "3fz06GP-JfpX"
      },
      "execution_count": null,
      "outputs": []
    },
    {
      "cell_type": "code",
      "source": [
        "def ngrams_mine(model, double_list):\n",
        "  text_unigrams = [ngrams(sent, 1) for sent in double_list]\n",
        "  text_bigrams  = [ngrams(sent, 2) for sent in double_list]\n",
        "  model.update(text_unigrams+text_bigrams)\n",
        "  return model\n"
      ],
      "metadata": {
        "id": "6Es9Yx86JfzR"
      },
      "execution_count": null,
      "outputs": []
    },
    {
      "cell_type": "code",
      "source": [
        "n_model=NgramCounter()\n",
        "\n",
        "\n",
        "#지금부터는 예시\n",
        "text=[[\"a\", \"b\", \"c\", \"d\"], [\"d\", \"w\", \"c\", \"a\"], [\"c\", \"b\", \"d\", \"a\"], [\"k\", \"a\", \"t\", \"b\", \"c\"], [\"b\", \"a\"], [\"a\", \"m\", \"b\"], [\"a\", \"n\",\"b\"], [\"a\", \"m\", \"b\"], [\"a\", \"x\",\"b\"], [\"a\", \"t\", \"b\"], [\"a\", \"k\", \"b\"], [\"a\", \"m\", \"b\"], [\"a\", \"v\", \"b\"]]\n",
        "#ngrams_mine(n_model, text)\n",
        "text2=[[\"a\", \"b\", \"c\", \"D\"], [\"d\", \"K\", \"c\", \"a\"], [\"c\", \"b\", \"c\", \"a\"], [\"a\", \"k\", \"b\", \"b\"] ]\n",
        "test_gram=ngrams_mine(n_model, text2)\n",
        "\n",
        "#make_it_one(test_gram, [\"a\", \"b\"])\n"
      ],
      "metadata": {
        "id": "tNYp5IgSJfxP"
      },
      "execution_count": null,
      "outputs": []
    },
    {
      "cell_type": "code",
      "source": [
        "#test_gram.unigrams\n",
        "\n",
        "test_gram[[\"K\"]]"
      ],
      "metadata": {
        "colab": {
          "base_uri": "https://localhost:8080/"
        },
        "id": "2YXCLBRsHwqY",
        "outputId": "e16c803a-ccdb-4e15-f6d9-9877737c32c9"
      },
      "execution_count": null,
      "outputs": [
        {
          "output_type": "execute_result",
          "data": {
            "text/plain": [
              "FreqDist({'c': 1})"
            ]
          },
          "metadata": {},
          "execution_count": 44
        }
      ]
    },
    {
      "cell_type": "code",
      "source": [
        "#학습 phase. 일단 그냥 전체 데이터에 대한 리스트질을 해보자\n",
        "#파일 받아서 전체과정\n",
        "def file_to_string(filenick):\n",
        "    dummylist=[]\n",
        "\n",
        "    with open(filenick) as f:\n",
        "        json_data=json.load(f)\n",
        "    for i in range(0, 1000):\n",
        "        try:\n",
        "        \n",
        "            kor_text=json_data[\"SJML\"][\"text\"][i][\"content\"]\n",
        "            dummylist.append(kor_text)\n",
        "        except:\n",
        "            break\n",
        "    return dummylist\n",
        "\n",
        "def pre_pipeline(stringed_text):\n",
        "    listed=preprocess_sent(stringed_text)\n",
        "    double=sent_to_morph(listed)\n",
        "    \n",
        "    return double\n",
        "\n",
        "def whole_pipeline(filenick, given_model):\n",
        "    dummies=file_to_string(filenick)\n",
        "    \n",
        "    for dummy in dummies:\n",
        "        \n",
        "        double_list=pre_pipeline(dummy)\n",
        "        ngrams_mine(given_model, double_list)"
      ],
      "metadata": {
        "id": "Tkw0LwfoJf3N"
      },
      "execution_count": null,
      "outputs": []
    },
    {
      "cell_type": "code",
      "source": [
        "#실제 학습 phase\n",
        "\"\"\"\n",
        "d_path=\"미정\"\n",
        "filelist=os.listdir(d_path)\n",
        "for filename in filelist:\n",
        "    uniquefile=os.path.join(d_path, filename )\n",
        "\"\"\""
      ],
      "metadata": {
        "id": "A3nu5LodMX7b"
      },
      "execution_count": null,
      "outputs": []
    },
    {
      "cell_type": "code",
      "source": [],
      "metadata": {
        "id": "HkpMGBjtP1Mm",
        "colab": {
          "base_uri": "https://localhost:8080/"
        },
        "outputId": "d83be94b-9b2c-4253-a09b-7881f06859e0"
      },
      "execution_count": null,
      "outputs": [
        {
          "output_type": "execute_result",
          "data": {
            "text/plain": [
              "[('a',), ('b',), 3333.3333]"
            ]
          },
          "metadata": {},
          "execution_count": 11
        }
      ]
    },
    {
      "cell_type": "code",
      "source": [
        "#생성된 객체 저장하는 시스템 만들기 (pickle 활용)\n",
        "\"\"\"\n",
        "with open(\"/content/gdrive/MyDrive/origin/testjames.p\", \"wb\") as file:\n",
        "  pickle.dump(n_model, file)\n",
        "\"\"\""
      ],
      "metadata": {
        "id": "I0EZXTRBJfvP"
      },
      "execution_count": null,
      "outputs": []
    },
    {
      "cell_type": "code",
      "source": [],
      "metadata": {
        "id": "WwBZ4Kp1JftF"
      },
      "execution_count": null,
      "outputs": []
    },
    {
      "cell_type": "code",
      "source": [
        "#생성된 객체 불러오는 시스템 만들기 (pickle 활용)\n",
        "\"\"\"\n",
        "with open(\"/content/gdrive/MyDrive/origin/testjames.p\", \"rb\") as file:\n",
        "  maybe=pickle.load(file)\n",
        "\n",
        "maybe.N()\n",
        "\"\"\""
      ],
      "metadata": {
        "colab": {
          "base_uri": "https://localhost:8080/",
          "height": 37
        },
        "id": "mZBiuolcITgE",
        "outputId": "94c1a503-91c5-4bfc-a017-9a1ced200005"
      },
      "execution_count": null,
      "outputs": [
        {
          "output_type": "execute_result",
          "data": {
            "text/plain": [
              "'\\nwith open(\"/content/gdrive/MyDrive/origin/testjames.p\", \"rb\") as file:\\n  maybe=pickle.load(file)\\n\\nmaybe.N()\\n'"
            ],
            "application/vnd.google.colaboratory.intrinsic+json": {
              "type": "string"
            }
          },
          "metadata": {},
          "execution_count": 18
        }
      ]
    },
    {
      "cell_type": "code",
      "source": [
        "#canconnect(n_model, \"a\", \"b\")\n",
        "#trigram_probs(n_model, \"a\", \"b\")\n",
        "#canconnect(n_model, \"a\", \"b\")"
      ],
      "metadata": {
        "colab": {
          "base_uri": "https://localhost:8080/"
        },
        "id": "rOPaOHRSMWYz",
        "outputId": "8e6aa7ab-dd29-4d6a-cad2-50278ba138b0"
      },
      "execution_count": null,
      "outputs": [
        {
          "output_type": "execute_result",
          "data": {
            "text/plain": [
              "[['a', 'm', 'b', 0.4444444444444444],\n",
              " ['a', 't', 'b', 0.2222222222222222],\n",
              " ['a', 'k', 'b', 0.14814814814814814],\n",
              " ['a', 'n', 'b', 0.1111111111111111],\n",
              " ['a', 'x', 'b', 0.1111111111111111],\n",
              " ['a', 'v', 'b', 0.1111111111111111]]"
            ]
          },
          "metadata": {},
          "execution_count": 86
        }
      ]
    },
    {
      "cell_type": "code",
      "source": [
        "\"\"\" \n",
        "대충 학습\n",
        "nn_model=NgramCounter()\n",
        "d_path=\"/content/gdrive/MyDrive/origin\"\n",
        "filelist=os.listdir(d_path)\n",
        "for filename in tqdm(filelist):\n",
        "    uniquefile=os.path.join(d_path, filename )\n",
        "    whole_pipeline(uniquefile, nn_model)\n",
        "\"\"\"\n"
      ],
      "metadata": {
        "id": "aLqRMnFwxMvH",
        "colab": {
          "base_uri": "https://localhost:8080/",
          "height": 54
        },
        "outputId": "c8990fd9-b69f-4d81-89f2-757eff888ec5"
      },
      "execution_count": null,
      "outputs": [
        {
          "output_type": "execute_result",
          "data": {
            "text/plain": [
              "' \\n대충 학습\\nnn_model=NgramCounter()\\nd_path=\"/content/gdrive/MyDrive/origin\"\\nfilelist=os.listdir(d_path)\\nfor filename in tqdm(filelist):\\n    uniquefile=os.path.join(d_path, filename )\\n    whole_pipeline(uniquefile, nn_model)\\n'"
            ],
            "application/vnd.google.colaboratory.intrinsic+json": {
              "type": "string"
            }
          },
          "metadata": {},
          "execution_count": 26
        }
      ]
    },
    {
      "cell_type": "code",
      "source": [
        "#취미 학습해보기\n",
        "\"\"\"\n",
        "n_model_hobby=NgramCounter()\n",
        "d_path=\"/content/gdrive/MyDrive/TS1/취미\"\n",
        "filelist=os.listdir(d_path)\n",
        "for filename in tqdm(filelist[:2000]):\n",
        "    uniquefile=os.path.join(d_path, filename )\n",
        "    whole_pipeline(uniquefile, n_model_hobby)\n",
        "\"\"\""
      ],
      "metadata": {
        "id": "OMhbwWilzprN",
        "colab": {
          "base_uri": "https://localhost:8080/",
          "height": 54
        },
        "outputId": "2f3d81f4-b7b4-4baa-c33a-971055c6c02e"
      },
      "execution_count": null,
      "outputs": [
        {
          "output_type": "execute_result",
          "data": {
            "text/plain": [
              "'\\nn_model_hobby=NgramCounter()\\nd_path=\"/content/gdrive/MyDrive/TS1/취미\"\\nfilelist=os.listdir(d_path)\\nfor filename in tqdm(filelist[:2000]):\\n    uniquefile=os.path.join(d_path, filename )\\n    whole_pipeline(uniquefile, n_model_hobby)\\n'"
            ],
            "application/vnd.google.colaboratory.intrinsic+json": {
              "type": "string"
            }
          },
          "metadata": {},
          "execution_count": 13
        }
      ]
    },
    {
      "cell_type": "code",
      "source": [
        "\"\"\"\n",
        "with open(\"/content/gdrive/MyDrive/origin/test_hobby.p\", \"wb\") as file:\n",
        "  pickle.dump(n_model_hobby, file)\n",
        "  \"\"\""
      ],
      "metadata": {
        "id": "Z1FznzyMzppX"
      },
      "execution_count": null,
      "outputs": []
    },
    {
      "cell_type": "code",
      "source": [
        "with open(\"/content/gdrive/MyDrive/origin/test_hobby.p\", \"rb\") as file:\n",
        "  hobby_komoran=pickle.load(file)\n",
        "\n",
        "d_path=\"/content/gdrive/MyDrive/TS1/IT_과학\"\n",
        "filelist=os.listdir(d_path)\n",
        "\n",
        "for filename in tqdm(filelist):\n",
        "    uniquefile=os.path.join(d_path, filename )\n",
        "    whole_pipeline(uniquefile, hobby_komoran)\n",
        "    \n",
        "\n",
        "with open(\"/content/gdrive/MyDrive/origin/test_hobbyit.p\", \"wb\") as file:\n",
        "  pickle.dump(hobby_komoran, file)"
      ],
      "metadata": {
        "colab": {
          "base_uri": "https://localhost:8080/"
        },
        "id": "ZKkZxiW5zpnS",
        "outputId": "93e62ea4-5903-474d-be4c-e0b0ed5351c1"
      },
      "execution_count": null,
      "outputs": [
        {
          "metadata": {
            "tags": null
          },
          "name": "stderr",
          "output_type": "stream",
          "text": [
            "100%|██████████| 1217/1217 [1:07:31<00:00,  3.33s/it]\n"
          ]
        }
      ]
    },
    {
      "cell_type": "code",
      "source": [
        "\"\"\"\n",
        "with open(\"/content/gdrive/MyDrive/origin/test_hobby.p\", \"rb\") as file:\n",
        "  hobby_komoran=pickle.load(file)\n",
        "  \"\"\""
      ],
      "metadata": {
        "colab": {
          "base_uri": "https://localhost:8080/",
          "height": 36
        },
        "id": "kzjteWEwzpk7",
        "outputId": "0d2b64ac-e8b9-4917-b2b4-3676aa1a783a"
      },
      "execution_count": null,
      "outputs": [
        {
          "output_type": "execute_result",
          "data": {
            "text/plain": [
              "'\\nwith open(\"/content/gdrive/MyDrive/origin/test_hobby.p\", \"rb\") as file:\\n  hobby_komoran=pickle.load(file)\\n  '"
            ],
            "application/vnd.google.colaboratory.intrinsic+json": {
              "type": "string"
            }
          },
          "metadata": {},
          "execution_count": 25
        }
      ]
    },
    {
      "cell_type": "code",
      "source": [
        "#hobby_komoran.N() : 227859362\n",
        "#canconnect(hobby_komoran, \"한국\", \"자유\")"
      ],
      "metadata": {
        "id": "va65DgdR1JYG",
        "colab": {
          "base_uri": "https://localhost:8080/"
        },
        "outputId": "37b37d29-d055-465a-877a-3459236ea1a9"
      },
      "execution_count": null,
      "outputs": [
        {
          "output_type": "execute_result",
          "data": {
            "text/plain": [
              "227859362"
            ]
          },
          "metadata": {},
          "execution_count": 15
        }
      ]
    },
    {
      "cell_type": "code",
      "source": [
        "#열어서 시험해보기\n",
        "with open(\"/content/gdrive/MyDrive/origin/test_hobbyit.p\", \"rb\") as file:\n",
        "  hobby_it=pickle.load(file)\n",
        "  "
      ],
      "metadata": {
        "id": "v0orfXAKaAOj"
      },
      "execution_count": null,
      "outputs": []
    },
    {
      "cell_type": "code",
      "source": [
        "#hobby_it.N(): 359473776\n",
        "c=after_make(hobby_it, [\"강의\",  \"네트워크\", \"연결\", \"예쁘\"])\n"
      ],
      "metadata": {
        "id": "mseb0jvxaDkI"
      },
      "execution_count": null,
      "outputs": []
    },
    {
      "cell_type": "code",
      "source": [],
      "metadata": {
        "colab": {
          "base_uri": "https://localhost:8080/"
        },
        "id": "0isGe6P-ITc6",
        "outputId": "2a8fba73-c1cf-4abd-f173-b41d3bd99c7c"
      },
      "execution_count": null,
      "outputs": [
        {
          "output_type": "execute_result",
          "data": {
            "text/plain": [
              "[[['강의를 연결'], 0.0001], [['강의와 연결'], 0.0], [['강의로 연결'], 0.0]]"
            ]
          },
          "metadata": {},
          "execution_count": 47
        }
      ]
    },
    {
      "cell_type": "code",
      "source": [
        "bigconnect(hobby_it, [\"강의\", \"네트워크\", \"연결\", \"예쁘\"])"
      ],
      "metadata": {
        "id": "zGBvI7t2KfGL",
        "colab": {
          "base_uri": "https://localhost:8080/"
        },
        "outputId": "36b84813-8115-4815-9409-704cfe5da8b4"
      },
      "execution_count": null,
      "outputs": [
        {
          "output_type": "execute_result",
          "data": {
            "text/plain": [
              "([['강의', '와', '네트워크', 9.377592719314168e-10],\n",
              "  ['강의', '는', '네트워크', 7.667173348073857e-10],\n",
              "  ['강의', '및', '네트워크', 6.247199937006409e-10],\n",
              "  ['네트워크', '연결', 9.827055399063943e-07],\n",
              "  ['네트워크', '를', '연결', 3.4455244874378286e-08],\n",
              "  ['네트워크', '와', '연결', 2.0313505216732815e-08],\n",
              "  ['네트워크', '로', '연결', 1.1978800906136205e-08],\n",
              "  ['연결', '을', '예쁘', 9.212203683884024e-11],\n",
              "  ['연결', '없이', '예쁘', 8.132823140854006e-11],\n",
              "  ['연결', '이', '예쁘', 5.243953859219504e-11]],\n",
              " [3, 4, 3])"
            ]
          },
          "metadata": {},
          "execution_count": 88
        }
      ]
    },
    {
      "cell_type": "code",
      "source": [
        "dict_array=np.array(dict(hobby_it.unigrams).values())\n",
        "#dict_array[dict_array.values()==1]"
      ],
      "metadata": {
        "id": "HRcdCncaMrSh"
      },
      "execution_count": null,
      "outputs": []
    },
    {
      "cell_type": "code",
      "source": [
        "#남아 있는 문제\n",
        "#mecab\n",
        "#검색 시간\n",
        "#확률 너무 작은 거 해결\n"
      ],
      "metadata": {
        "colab": {
          "base_uri": "https://localhost:8080/"
        },
        "id": "7iI86Y58KjV7",
        "outputId": "06a8be5e-b3c5-4a5d-95d8-0320fa34d3fb"
      },
      "execution_count": null,
      "outputs": [
        {
          "output_type": "execute_result",
          "data": {
            "text/plain": [
              "int"
            ]
          },
          "metadata": {},
          "execution_count": 67
        }
      ]
    },
    {
      "cell_type": "code",
      "source": [
        "a=pd.DataFrame(list(dict_array.reshape(-1))).T\n",
        "a"
      ],
      "metadata": {
        "id": "-zmbGu3lOgLX",
        "colab": {
          "base_uri": "https://localhost:8080/",
          "height": 674
        },
        "outputId": "ee834f81-eed5-4e2f-b273-62557356e30e"
      },
      "execution_count": null,
      "outputs": [
        {
          "output_type": "execute_result",
          "data": {
            "text/plain": [
              "         0\n",
              "0       18\n",
              "1       16\n",
              "2        8\n",
              "3        4\n",
              "4        1\n",
              "...     ..\n",
              "193530   1\n",
              "193531   1\n",
              "193532   1\n",
              "193533   1\n",
              "193534   1\n",
              "\n",
              "[193535 rows x 1 columns]"
            ],
            "text/html": [
              "\n",
              "  <div id=\"df-26c498aa-702d-48b7-ae98-a11ed31c6c45\">\n",
              "    <div class=\"colab-df-container\">\n",
              "      <div>\n",
              "<style scoped>\n",
              "    .dataframe tbody tr th:only-of-type {\n",
              "        vertical-align: middle;\n",
              "    }\n",
              "\n",
              "    .dataframe tbody tr th {\n",
              "        vertical-align: top;\n",
              "    }\n",
              "\n",
              "    .dataframe thead th {\n",
              "        text-align: right;\n",
              "    }\n",
              "</style>\n",
              "<table border=\"1\" class=\"dataframe\">\n",
              "  <thead>\n",
              "    <tr style=\"text-align: right;\">\n",
              "      <th></th>\n",
              "      <th>0</th>\n",
              "    </tr>\n",
              "  </thead>\n",
              "  <tbody>\n",
              "    <tr>\n",
              "      <th>0</th>\n",
              "      <td>18</td>\n",
              "    </tr>\n",
              "    <tr>\n",
              "      <th>1</th>\n",
              "      <td>16</td>\n",
              "    </tr>\n",
              "    <tr>\n",
              "      <th>2</th>\n",
              "      <td>8</td>\n",
              "    </tr>\n",
              "    <tr>\n",
              "      <th>3</th>\n",
              "      <td>4</td>\n",
              "    </tr>\n",
              "    <tr>\n",
              "      <th>4</th>\n",
              "      <td>1</td>\n",
              "    </tr>\n",
              "    <tr>\n",
              "      <th>...</th>\n",
              "      <td>...</td>\n",
              "    </tr>\n",
              "    <tr>\n",
              "      <th>193530</th>\n",
              "      <td>1</td>\n",
              "    </tr>\n",
              "    <tr>\n",
              "      <th>193531</th>\n",
              "      <td>1</td>\n",
              "    </tr>\n",
              "    <tr>\n",
              "      <th>193532</th>\n",
              "      <td>1</td>\n",
              "    </tr>\n",
              "    <tr>\n",
              "      <th>193533</th>\n",
              "      <td>1</td>\n",
              "    </tr>\n",
              "    <tr>\n",
              "      <th>193534</th>\n",
              "      <td>1</td>\n",
              "    </tr>\n",
              "  </tbody>\n",
              "</table>\n",
              "<p>193535 rows × 1 columns</p>\n",
              "</div>\n",
              "      <button class=\"colab-df-convert\" onclick=\"convertToInteractive('df-26c498aa-702d-48b7-ae98-a11ed31c6c45')\"\n",
              "              title=\"Convert this dataframe to an interactive table.\"\n",
              "              style=\"display:none;\">\n",
              "        \n",
              "  <svg xmlns=\"http://www.w3.org/2000/svg\" height=\"24px\"viewBox=\"0 0 24 24\"\n",
              "       width=\"24px\">\n",
              "    <path d=\"M0 0h24v24H0V0z\" fill=\"none\"/>\n",
              "    <path d=\"M18.56 5.44l.94 2.06.94-2.06 2.06-.94-2.06-.94-.94-2.06-.94 2.06-2.06.94zm-11 1L8.5 8.5l.94-2.06 2.06-.94-2.06-.94L8.5 2.5l-.94 2.06-2.06.94zm10 10l.94 2.06.94-2.06 2.06-.94-2.06-.94-.94-2.06-.94 2.06-2.06.94z\"/><path d=\"M17.41 7.96l-1.37-1.37c-.4-.4-.92-.59-1.43-.59-.52 0-1.04.2-1.43.59L10.3 9.45l-7.72 7.72c-.78.78-.78 2.05 0 2.83L4 21.41c.39.39.9.59 1.41.59.51 0 1.02-.2 1.41-.59l7.78-7.78 2.81-2.81c.8-.78.8-2.07 0-2.86zM5.41 20L4 18.59l7.72-7.72 1.47 1.35L5.41 20z\"/>\n",
              "  </svg>\n",
              "      </button>\n",
              "      \n",
              "  <style>\n",
              "    .colab-df-container {\n",
              "      display:flex;\n",
              "      flex-wrap:wrap;\n",
              "      gap: 12px;\n",
              "    }\n",
              "\n",
              "    .colab-df-convert {\n",
              "      background-color: #E8F0FE;\n",
              "      border: none;\n",
              "      border-radius: 50%;\n",
              "      cursor: pointer;\n",
              "      display: none;\n",
              "      fill: #1967D2;\n",
              "      height: 32px;\n",
              "      padding: 0 0 0 0;\n",
              "      width: 32px;\n",
              "    }\n",
              "\n",
              "    .colab-df-convert:hover {\n",
              "      background-color: #E2EBFA;\n",
              "      box-shadow: 0px 1px 2px rgba(60, 64, 67, 0.3), 0px 1px 3px 1px rgba(60, 64, 67, 0.15);\n",
              "      fill: #174EA6;\n",
              "    }\n",
              "\n",
              "    [theme=dark] .colab-df-convert {\n",
              "      background-color: #3B4455;\n",
              "      fill: #D2E3FC;\n",
              "    }\n",
              "\n",
              "    [theme=dark] .colab-df-convert:hover {\n",
              "      background-color: #434B5C;\n",
              "      box-shadow: 0px 1px 3px 1px rgba(0, 0, 0, 0.15);\n",
              "      filter: drop-shadow(0px 1px 2px rgba(0, 0, 0, 0.3));\n",
              "      fill: #FFFFFF;\n",
              "    }\n",
              "  </style>\n",
              "\n",
              "      <script>\n",
              "        const buttonEl =\n",
              "          document.querySelector('#df-26c498aa-702d-48b7-ae98-a11ed31c6c45 button.colab-df-convert');\n",
              "        buttonEl.style.display =\n",
              "          google.colab.kernel.accessAllowed ? 'block' : 'none';\n",
              "\n",
              "        async function convertToInteractive(key) {\n",
              "          const element = document.querySelector('#df-26c498aa-702d-48b7-ae98-a11ed31c6c45');\n",
              "          const dataTable =\n",
              "            await google.colab.kernel.invokeFunction('convertToInteractive',\n",
              "                                                     [key], {});\n",
              "          if (!dataTable) return;\n",
              "\n",
              "          const docLinkHtml = 'Like what you see? Visit the ' +\n",
              "            '<a target=\"_blank\" href=https://colab.research.google.com/notebooks/data_table.ipynb>data table notebook</a>'\n",
              "            + ' to learn more about interactive tables.';\n",
              "          element.innerHTML = '';\n",
              "          dataTable['output_type'] = 'display_data';\n",
              "          await google.colab.output.renderOutput(dataTable, element);\n",
              "          const docLink = document.createElement('div');\n",
              "          docLink.innerHTML = docLinkHtml;\n",
              "          element.appendChild(docLink);\n",
              "        }\n",
              "      </script>\n",
              "    </div>\n",
              "  </div>\n",
              "  "
            ]
          },
          "metadata": {},
          "execution_count": 34
        },
        {
          "output_type": "stream",
          "name": "stdout",
          "text": [
            "Warning: total number of rows (193535) exceeds max_rows (20000). Limiting to first (20000) rows.\n"
          ]
        }
      ]
    },
    {
      "cell_type": "code",
      "source": [
        "hobby_it.N()"
      ],
      "metadata": {
        "colab": {
          "base_uri": "https://localhost:8080/"
        },
        "id": "KIaj0dIXGlUj",
        "outputId": "4984207d-da53-47b0-ea46-00f677cd14fb"
      },
      "execution_count": null,
      "outputs": [
        {
          "output_type": "execute_result",
          "data": {
            "text/plain": [
              "359473776"
            ]
          },
          "metadata": {},
          "execution_count": 78
        }
      ]
    },
    {
      "cell_type": "code",
      "source": [
        "len(list(dict(hobby_it.unigrams).keys()))\n",
        "#타입 [] 강의"
      ],
      "metadata": {
        "colab": {
          "base_uri": "https://localhost:8080/"
        },
        "id": "i2JFxvIhG8KU",
        "outputId": "318f71a8-72b9-4186-e270-96199f49a54d"
      },
      "execution_count": null,
      "outputs": [
        {
          "output_type": "execute_result",
          "data": {
            "text/plain": [
              "193535"
            ]
          },
          "metadata": {},
          "execution_count": 82
        }
      ]
    },
    {
      "cell_type": "code",
      "source": [
        "len(list((dict(hobby_it[[\"타입\"]])).keys()))\n"
      ],
      "metadata": {
        "colab": {
          "base_uri": "https://localhost:8080/"
        },
        "id": "IXWrO7g0KSd6",
        "outputId": "e2e310fc-6d28-4992-d01b-457010249601"
      },
      "execution_count": null,
      "outputs": [
        {
          "output_type": "execute_result",
          "data": {
            "text/plain": [
              "307"
            ]
          },
          "metadata": {},
          "execution_count": 79
        }
      ]
    },
    {
      "cell_type": "code",
      "source": [
        "trigram_probs(hobby_it, \"강의\", \"네트워크\")\n"
      ],
      "metadata": {
        "colab": {
          "base_uri": "https://localhost:8080/"
        },
        "id": "kFOTLk6_LNsY",
        "outputId": "037d0321-f428-4e10-bfd3-a9a65aee6548"
      },
      "execution_count": null,
      "outputs": [
        {
          "output_type": "execute_result",
          "data": {
            "text/plain": [
              "[['강의', '와', '네트워크', 9.377592719314168e-10],\n",
              " ['강의', '는', '네트워크', 7.667173348073857e-10],\n",
              " ['강의', '및', '네트워크', 6.247199937006409e-10]]"
            ]
          },
          "metadata": {},
          "execution_count": 85
        }
      ]
    },
    {
      "cell_type": "code",
      "source": [
        "bigram_probs(hobby_it, \"네트워크\", \"강의\")\n"
      ],
      "metadata": {
        "colab": {
          "base_uri": "https://localhost:8080/"
        },
        "id": "eTdMHnAaLjVY",
        "outputId": "4a59eaf1-4f04-4397-9a34-a11c42844eda"
      },
      "execution_count": null,
      "outputs": [
        {
          "output_type": "execute_result",
          "data": {
            "text/plain": [
              "0.0"
            ]
          },
          "metadata": {},
          "execution_count": 86
        }
      ]
    },
    {
      "cell_type": "code",
      "source": [],
      "metadata": {
        "id": "7snCdJ4TOi-F"
      },
      "execution_count": null,
      "outputs": []
    }
  ]
}