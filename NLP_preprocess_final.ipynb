{
  "nbformat": 4,
  "nbformat_minor": 0,
  "metadata": {
    "colab": {
      "provenance": []
    },
    "kernelspec": {
      "name": "python3",
      "display_name": "Python 3"
    },
    "language_info": {
      "name": "python"
    }
  },
  "cells": [
    {
      "cell_type": "markdown",
      "source": [
        "### 필요한 라이브러리 불러오기"
      ],
      "metadata": {
        "id": "RQOtK08VvYDO"
      }
    },
    {
      "cell_type": "code",
      "source": [
        "!set -x \\\n",
        "&& pip install konlpy \\\n",
        "&& curl -s https://raw.githubusercontent.com/konlpy/konlpy/master/scripts/mecab.sh | bash -x"
      ],
      "metadata": {
        "colab": {
          "base_uri": "https://localhost:8080/"
        },
        "id": "OK8pPc40_BO0",
        "outputId": "184cfc13-22f3-4570-9f1f-46e1a654c140"
      },
      "execution_count": null,
      "outputs": [
        {
          "output_type": "stream",
          "name": "stdout",
          "text": [
            "+ pip install konlpy\n",
            "Looking in indexes: https://pypi.org/simple, https://us-python.pkg.dev/colab-wheels/public/simple/\n",
            "Requirement already satisfied: konlpy in /usr/local/lib/python3.7/dist-packages (0.6.0)\n",
            "Requirement already satisfied: lxml>=4.1.0 in /usr/local/lib/python3.7/dist-packages (from konlpy) (4.9.1)\n",
            "Requirement already satisfied: JPype1>=0.7.0 in /usr/local/lib/python3.7/dist-packages (from konlpy) (1.4.0)\n",
            "Requirement already satisfied: numpy>=1.6 in /usr/local/lib/python3.7/dist-packages (from konlpy) (1.21.6)\n",
            "Requirement already satisfied: typing-extensions in /usr/local/lib/python3.7/dist-packages (from JPype1>=0.7.0->konlpy) (4.1.1)\n",
            "+ curl -s https://raw.githubusercontent.com/konlpy/konlpy/master/scripts/mecab.sh\n",
            "+ bash -x\n",
            "+ mecab_dicdir=/usr/local/lib/mecab/dic/mecab-ko-dic\n",
            "+ set -e\n",
            "++ uname\n",
            "+ os=Linux\n",
            "+ [[ ! Linux == \\L\\i\\n\\u\\x ]]\n",
            "+ hash sudo\n",
            "+ sudo=sudo\n",
            "+ python=python3\n",
            "+ hash pyenv\n",
            "+ at_user_site=\n",
            "++ check_python_site_location_is_writable\n",
            "++ python3 -\n",
            "+ [[ 1 == \\0 ]]\n",
            "+ hash automake\n",
            "+ hash mecab\n",
            "+ echo 'mecab-ko is already installed'\n",
            "mecab-ko is already installed\n",
            "+ [[ -d /usr/local/lib/mecab/dic/mecab-ko-dic ]]\n",
            "+ echo 'mecab-ko-dic is already installed'\n",
            "mecab-ko-dic is already installed\n",
            "++ python3 -c 'import pkgutil; print(1 if pkgutil.find_loader(\"MeCab\") else 0)'\n",
            "+ [[ 1 == \\1 ]]\n",
            "+ echo 'mecab-python is already installed'\n",
            "mecab-python is already installed\n",
            "+ echo Done.\n",
            "Done.\n"
          ]
        }
      ]
    },
    {
      "cell_type": "code",
      "source": [
        "from konlpy.tag import Mecab\n",
        "from itertools import permutations, combinations, product\n",
        "import numpy as np"
      ],
      "metadata": {
        "id": "_J-r2W1S_E0b"
      },
      "execution_count": null,
      "outputs": []
    },
    {
      "cell_type": "markdown",
      "source": [
        "### Mecab 예시"
      ],
      "metadata": {
        "id": "_RbAqdelvhbk"
      }
    },
    {
      "cell_type": "code",
      "source": [
        "mecab = Mecab()\n",
        "mecab.pos('무엇의무엇에')"
      ],
      "metadata": {
        "colab": {
          "base_uri": "https://localhost:8080/"
        },
        "id": "2i7QkB4p_nXr",
        "outputId": "66c2a196-b38c-4287-8a9c-66373210e1b7"
      },
      "execution_count": null,
      "outputs": [
        {
          "output_type": "execute_result",
          "data": {
            "text/plain": [
              "[('무엇', 'NP'), ('의', 'JKG'), ('무엇', 'NP'), ('에', 'JKB')]"
            ]
          },
          "metadata": {},
          "execution_count": 3
        }
      ]
    },
    {
      "cell_type": "markdown",
      "source": [
        "### input words"
      ],
      "metadata": {
        "id": "ZkwHjIx1wijh"
      }
    },
    {
      "cell_type": "code",
      "execution_count": null,
      "metadata": {
        "id": "P6AkJhUL-JdA"
      },
      "outputs": [],
      "source": [
        "words = ['의열단', '조선 의용군', '활빈당', '조선 의용대']\n",
        "# words = ['할', '스', '이', '투', '앤']\n",
        "# words = ['갑', '을', '갑', '임', '일']\n",
        "# words = ['세', '무', '사', '기', '일']\n",
        "# words = ['조', '조', '한', '한', '한']"
      ]
    },
    {
      "cell_type": "code",
      "source": [
        "def characters_extract(words):\n",
        "\n",
        "  splited_words = []\n",
        "  for word in words:\n",
        "    splited_words.append(word.split())\n",
        "\n",
        "  characters = []\n",
        "  for word in splited_words:\n",
        "    if len(word) == 1:\n",
        "      characters.append(word[0][0])\n",
        "    else:\n",
        "      characters.append([w[0] for w in word])\n",
        "\n",
        "  characters_permutation = list(product(*characters))\n",
        "\n",
        "  return characters_permutation"
      ],
      "metadata": {
        "id": "zw9vaVX95NUx"
      },
      "execution_count": null,
      "outputs": []
    },
    {
      "cell_type": "code",
      "source": [
        "chars = characters_extract(words)\n",
        "chars"
      ],
      "metadata": {
        "colab": {
          "base_uri": "https://localhost:8080/"
        },
        "id": "1femEy868VHz",
        "outputId": "2e1c104b-ddcb-42e1-f422-5e9b11d8058f"
      },
      "execution_count": null,
      "outputs": [
        {
          "output_type": "execute_result",
          "data": {
            "text/plain": [
              "[('의', '조', '활', '조'),\n",
              " ('의', '조', '활', '의'),\n",
              " ('의', '의', '활', '조'),\n",
              " ('의', '의', '활', '의')]"
            ]
          },
          "metadata": {},
          "execution_count": 6
        }
      ]
    },
    {
      "cell_type": "markdown",
      "source": [
        "### window_size 단위로 단어 추출"
      ],
      "metadata": {
        "id": "dS28j10cwwYO"
      }
    },
    {
      "cell_type": "code",
      "source": [
        "def words_extract(characters): # input: 글자 리스트\n",
        "\n",
        "  windows = [[], characters]  # windows 에는 모든 경우 포함\n",
        "  for i in range(2, 5):\n",
        "    permutation = list(set(permutations(characters, i)))\n",
        "    for j, p in enumerate(permutation):\n",
        "      concat = ''\n",
        "      for character in p:\n",
        "        concat += character\n",
        "        permutation[j] = concat\n",
        "    windows.append(permutation)\n",
        "\n",
        "  is_noun = [[] for _ in range(5)]  # is_noun 에는 단어만 포함\n",
        "  for i in range(1, 5):\n",
        "    for w in windows[i]:\n",
        "      if len(mecab.pos(w)) == 1:\n",
        "        # is_noun[i].append(w)\n",
        "        if mecab.pos(w)[0][1][0] in 'NVM':  # 명사, 동사, 형용사, 관형사, 부사\n",
        "          is_noun[i].append(w)  # index 가 window_size 를 의미함\n",
        "\n",
        "  return is_noun  # output: window_size 별 조합 단어 리스트"
      ],
      "metadata": {
        "id": "2ST-cKqwCqKT"
      },
      "execution_count": null,
      "outputs": []
    },
    {
      "cell_type": "code",
      "source": [
        "is_noun = words_extract(chars[0])\n",
        "is_noun"
      ],
      "metadata": {
        "colab": {
          "base_uri": "https://localhost:8080/"
        },
        "id": "_oTP6VHzG9V6",
        "outputId": "7778fcce-e570-41a9-a8bb-330caf954892"
      },
      "execution_count": null,
      "outputs": [
        {
          "output_type": "execute_result",
          "data": {
            "text/plain": [
              "[[], ['의', '조', '활', '조'], ['의조', '조조', '조의', '활의'], [], []]"
            ]
          },
          "metadata": {},
          "execution_count": 8
        }
      ]
    },
    {
      "cell_type": "markdown",
      "source": [
        "### 품사태깅 예시"
      ],
      "metadata": {
        "id": "89MTA9brxZZj"
      }
    },
    {
      "cell_type": "code",
      "source": [
        "# 관형사 vs 명사\n",
        "print(mecab.pos('한'))  # 한 -> 관형사\n",
        "print(mecab.pos('한이'))\n",
        "print(mecab.pos('한의'))\n",
        "print(mecab.pos('한이맺히다')) # 한 -> 명사\n",
        "\n",
        "# 오류\n",
        "print(mecab.pos('스튜어디스스튜스투'))  # '스투'와 같이 말이 안 되는 단어를 명사로 분류"
      ],
      "metadata": {
        "colab": {
          "base_uri": "https://localhost:8080/"
        },
        "id": "dOT6MkebMDeQ",
        "outputId": "fb30daa3-de28-4cf4-e60b-3c80686fe07c"
      },
      "execution_count": null,
      "outputs": [
        {
          "output_type": "stream",
          "name": "stdout",
          "text": [
            "[('한', 'MM')]\n",
            "[('한이', 'NNP')]\n",
            "[('한의', 'NNG')]\n",
            "[('한', 'NNG'), ('이', 'JKS'), ('맺히', 'VV'), ('다', 'EC')]\n",
            "[('스튜어디스', 'NNG'), ('스튜', 'NNG'), ('스투', 'NNP')]\n"
          ]
        }
      ]
    },
    {
      "cell_type": "markdown",
      "source": [
        "### 최종 output"
      ],
      "metadata": {
        "id": "PtvBGXEEx5Vm"
      }
    },
    {
      "cell_type": "code",
      "source": [
        "def words_combination(is_noun, characters): # input: 조합 단어 리스트, 글자 리스트\n",
        "\n",
        "  is_noun_concat = []\n",
        "  for _ in is_noun:\n",
        "    is_noun_concat.extend(_)\n",
        "\n",
        "  combination = []\n",
        "  for i in range(1, len(characters) + 1):\n",
        "    combination.extend(list(combinations(is_noun_concat, i)))\n",
        "\n",
        "  final_combination = []\n",
        "  for c in combination:\n",
        "    concat = ''\n",
        "    for w in c:\n",
        "      concat += w\n",
        "    if len(concat) == len(characters):\n",
        "      flag = 1\n",
        "      for f in characters:\n",
        "        if concat.count(f) != characters.count(f):\n",
        "          flag = 0\n",
        "          break\n",
        "      if flag:\n",
        "        final_combination.append(c)\n",
        "  \n",
        "  final_combination = list(set(final_combination))\n",
        "\n",
        "  return final_combination  # output: 최종 조합 리스트"
      ],
      "metadata": {
        "id": "sBwi8tGUP7Kx"
      },
      "execution_count": null,
      "outputs": []
    },
    {
      "cell_type": "code",
      "source": [
        "final_combination = words_combination(is_noun, chars[0])\n",
        "final_combination"
      ],
      "metadata": {
        "colab": {
          "base_uri": "https://localhost:8080/"
        },
        "id": "0mNb74da29CS",
        "outputId": "65c61910-7466-45d8-eb40-afb591b9b6ab"
      },
      "execution_count": null,
      "outputs": [
        {
          "output_type": "execute_result",
          "data": {
            "text/plain": [
              "[('조', '조', '활의'),\n",
              " ('조', '활', '의조'),\n",
              " ('의', '조', '활', '조'),\n",
              " ('의', '활', '조조'),\n",
              " ('조', '활', '조의'),\n",
              " ('조조', '활의'),\n",
              " ('활', '조', '조의'),\n",
              " ('활', '조', '의조')]"
            ]
          },
          "metadata": {},
          "execution_count": 11
        }
      ]
    },
    {
      "cell_type": "markdown",
      "source": [
        "### 최종 코드"
      ],
      "metadata": {
        "id": "LNpYoR1_3bV0"
      }
    },
    {
      "cell_type": "code",
      "source": [
        "input_words = ['키', '킥 의', '킼 의', '킫 의']\n",
        "\n",
        "characters_permutation = characters_extract(input_words)\n",
        "\n",
        "output = []\n",
        "\n",
        "while not output:\n",
        "\n",
        "  if not characters_permutation:\n",
        "    print('All impossible.')\n",
        "    break\n",
        "  \n",
        "  characters = characters_permutation.pop(0)\n",
        "\n",
        "  words_by_windows = words_extract(characters)\n",
        "\n",
        "  output = words_combination(words_by_windows, characters)\n",
        "\n",
        "  if not output:\n",
        "    print(f'{characters} is impossible.')\n",
        "  \n",
        "output"
      ],
      "metadata": {
        "id": "uKHk9c_03aiX",
        "colab": {
          "base_uri": "https://localhost:8080/"
        },
        "outputId": "22ec6d23-ec12-44e4-ef3f-39e47e895d28"
      },
      "execution_count": null,
      "outputs": [
        {
          "output_type": "stream",
          "name": "stdout",
          "text": [
            "('키', '킥', '킼', '킫') is impossible.\n",
            "('키', '킥', '킼', '의') is impossible.\n",
            "('키', '킥', '의', '킫') is impossible.\n"
          ]
        },
        {
          "output_type": "execute_result",
          "data": {
            "text/plain": [
              "[('키', '킥', '의의'), ('의', '의', '키킥'), ('키', '킥', '의', '의'), ('키킥', '의의')]"
            ]
          },
          "metadata": {},
          "execution_count": 12
        }
      ]
    }
  ]
}